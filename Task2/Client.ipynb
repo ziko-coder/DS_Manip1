{
 "cells": [
  {
   "cell_type": "code",
   "execution_count": 1,
   "id": "98df14cf",
   "metadata": {},
   "outputs": [
    {
     "name": "stdout",
     "output_type": "stream",
     "text": [
      "Response: Echo: Hello, server!\n"
     ]
    }
   ],
   "source": [
    "import socket\n",
    "\n",
    "host = 'localhost'\n",
    "port = 4444\n",
    "\n",
    "with socket.socket(socket.AF_INET, socket.SOCK_STREAM) as s:\n",
    "    s.connect((host, port))\n",
    "    message = b'Hello, server!'\n",
    "    s.sendall(message)\n",
    "    response = s.recv(1024)\n",
    "    print('Response:', response.decode())\n"
   ]
  },
  {
   "cell_type": "code",
   "execution_count": null,
   "id": "559d6763",
   "metadata": {},
   "outputs": [],
   "source": []
  }
 ],
 "metadata": {
  "kernelspec": {
   "display_name": "Python 3 (ipykernel)",
   "language": "python",
   "name": "python3"
  },
  "language_info": {
   "codemirror_mode": {
    "name": "ipython",
    "version": 3
   },
   "file_extension": ".py",
   "mimetype": "text/x-python",
   "name": "python",
   "nbconvert_exporter": "python",
   "pygments_lexer": "ipython3",
   "version": "3.9.13"
  }
 },
 "nbformat": 4,
 "nbformat_minor": 5
}
